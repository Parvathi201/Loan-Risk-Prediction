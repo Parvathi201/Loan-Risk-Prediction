{
 "cells": [
  {
   "cell_type": "markdown",
   "metadata": {},
   "source": [
    "# 5. Anomaly Detection\n",
    "\n",
    "## Objectives:\n",
    "- Implement anomaly detection techniques (Isolation Forest, One-Class SVM, etc.)\n",
    "- Identify potential fraudulent loan applications\n",
    "- Analyze the characteristics of detected anomalies\n",
    "- Visualize the results\n",
    "- Compare different anomaly detection methods"
   ]
  }
 ],
 "metadata": {
  "kernelspec": {
   "display_name": "Python 3",
   "language": "python",
   "name": "python3"
  },
  "language_info": {
   "codemirror_mode": {
    "name": "ipython",
    "version": 3
   },
   "file_extension": ".py",
   "mimetype": "text/x-python",
   "name": "python",
   "nbconvert_exporter": "python",
   "pygments_lexer": "ipython3",
   "version": "3.8.0"
  }
 },
 "nbformat": 4,
 "nbformat_minor": 4
}
